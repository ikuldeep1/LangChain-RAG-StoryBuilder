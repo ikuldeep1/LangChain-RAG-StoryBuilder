{
 "cells": [
  {
   "cell_type": "code",
   "execution_count": null,
   "metadata": {},
   "outputs": [],
   "source": [
    "# !pip install -U langchain\n",
    "# !pip install -U langchain_community\n",
    "# !pip install -U langchain_openai\n",
    "# !pip install faiss-cpu\n",
    "# !pip install pypdf"
   ]
  },
  {
   "cell_type": "code",
   "execution_count": 2,
   "metadata": {},
   "outputs": [],
   "source": [
    "#We stant by fetching a document that loads the book - \"Atomic habits\"\n",
    "from langchain_community.document_loaders import PyPDFLoader\n",
    "\n",
    "pdfloader = PyPDFLoader(r\"C:\\Users\\kurathore\\Downloads\\SimpleRAG\\story1.pdf\")\n",
    "pdfpages = pdfloader.load_and_split()\n",
    "\n",
    "from langchain.text_splitter import CharacterTextSplitter\n",
    "from langchain_community.vectorstores import FAISS \n",
    "# from langchain_openai.embeddings import OpenAIEmbeddings \n",
    "from langchain_community.embeddings import OpenAIEmbeddings\n",
    "import os\n",
    "os.environ[\"OPENAI_API_KEY\"] = \"\""
   ]
  },
  {
   "cell_type": "code",
   "execution_count": 3,
   "metadata": {},
   "outputs": [
    {
     "name": "stderr",
     "output_type": "stream",
     "text": [
      "c:\\Users\\kurathore\\AppData\\Local\\anaconda3\\envs\\RAG_APP\\lib\\site-packages\\langchain_core\\_api\\deprecation.py:119: LangChainDeprecationWarning: The class `OpenAIEmbeddings` was deprecated in LangChain 0.0.9 and will be removed in 0.3.0. An updated version of the class exists in the langchain-openai package and should be used instead. To use it run `pip install -U langchain-openai` and import as `from langchain_openai import OpenAIEmbeddings`.\n",
      "  warn_deprecated(\n"
     ]
    }
   ],
   "source": [
    "# Load the document using LangChain's built in extractors, formatters, Loaders, embeddings, and\n",
    "mydocuments = pdfloader.load()\n",
    "text_splitter = CharacterTextSplitter(chunk_size=1000, chunk_overlap=0)\n",
    "texts = text_splitter.split_documents(mydocuments)\n",
    "# Using OpenAI default embedding model\n",
    "embeddings = OpenAIEmbeddings()\n",
    "\n",
    "# Using LangChain API functions to interact with FAISS\n",
    "db = FAISS.from_documents(texts, embeddings)"
   ]
  },
  {
   "cell_type": "code",
   "execution_count": 14,
   "metadata": {},
   "outputs": [],
   "source": [
    "#Using Langchain retreiver\n",
    "\n",
    "retriever = db.as_retriever()\n",
    "from langchain.agents.agent_toolkits import create_retriever_tool\n",
    "tool = create_retriever_tool(\n",
    "    retriever,\n",
    "    \"story1\",\n",
    "    \"Searches and returns documents regarding the children story\"\n",
    ")\n",
    "tools = [tool]\n",
    "\n",
    "#Wrapping LLM with conversational agent\n",
    "\n",
    "from langchain.agents.agent_toolkits import create_conversational_retrieval_agent\n",
    "\n",
    "# LangChain given API to interact with chat models\n",
    "# from langchain_openai.chat_models import ChatOpenAI\n",
    "from langchain_openai import ChatOpenAI\n",
    "\n",
    "llm = ChatOpenAI(temperature = 0)\n",
    "agent_executor = create_conversational_retrieval_agent(llm, tools, verbose=True)"
   ]
  },
  {
   "cell_type": "code",
   "execution_count": 17,
   "metadata": {},
   "outputs": [
    {
     "name": "stdout",
     "output_type": "stream",
     "text": [
      "\n",
      "\n",
      "\u001b[1m> Entering new AgentExecutor chain...\u001b[0m\n",
      "\u001b[32;1m\u001b[1;3mOnce upon a time, in a magical forest, there lived a wise owl named Oliver and a playful squirrel named Sammy. Oliver was known throughout the forest for his wisdom and guidance, while Sammy was loved by all for his cheerful and mischievous nature.\n",
      "\n",
      "One day, a mysterious fog descended upon the forest, causing confusion and fear among the animals. Oliver, sensing the unease, called for a meeting with all the forest creatures to discuss a solution. As they gathered, Sammy, always eager for an adventure, proposed seeking the help of the ancient Tree of Wisdom, rumored to hold the key to dispelling the fog.\n",
      "\n",
      "With Oliver's wisdom and Sammy's enthusiasm, the duo set out on a journey through the dense forest, facing challenges and obstacles along the way. They encountered talking trees, mischievous fairies, and helpful animals who guided them towards the Tree of Wisdom.\n",
      "\n",
      "Upon reaching the ancient tree, they found it shrouded in a mystical light, emanating a sense of peace and clarity. Oliver and Sammy listened intently as the tree whispered ancient secrets and offered a solution to lift the fog from the forest.\n",
      "\n",
      "Armed with newfound knowledge and courage, Oliver and Sammy returned to the forest and shared the wisdom they had gained from the Tree of Wisdom. Together, they led the animals in a harmonious chant, invoking the spirits of the forest to dispel the fog and restore peace and clarity to their home.\n",
      "\n",
      "As the fog lifted and the sun's rays illuminated the forest once more, the animals rejoiced in gratitude for Oliver and Sammy's bravery and unity. From that day on, the forest thrived with a newfound sense of harmony and understanding, all thanks to the wisdom of Oliver and the adventurous spirit of Sammy.\n",
      "\n",
      "And so, the tale of Oliver the wise owl and Sammy the playful squirrel became a legend in the enchanted forest, inspiring generations to come with the power of wisdom, courage, and unity in the face of challenges.\u001b[0m\n",
      "\n",
      "\u001b[1m> Finished chain.\u001b[0m\n"
     ]
    }
   ],
   "source": [
    "inputt = \"Read all the stories. Take inspiration from all the stories and create a short sequel story.\"\n",
    "result = agent_executor.invoke({\"input\": inputt})"
   ]
  }
 ],
 "metadata": {
  "kernelspec": {
   "display_name": "RAG_APP",
   "language": "python",
   "name": "python3"
  },
  "language_info": {
   "codemirror_mode": {
    "name": "ipython",
    "version": 3
   },
   "file_extension": ".py",
   "mimetype": "text/x-python",
   "name": "python",
   "nbconvert_exporter": "python",
   "pygments_lexer": "ipython3",
   "version": "3.8.19"
  }
 },
 "nbformat": 4,
 "nbformat_minor": 2
}
